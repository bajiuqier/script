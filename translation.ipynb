{
 "cells": [
  {
   "cell_type": "code",
   "execution_count": 13,
   "metadata": {},
   "outputs": [],
   "source": [
    "import pandas as pd\n",
    "from googletrans import Translator\n",
    "import time"
   ]
  },
  {
   "cell_type": "code",
   "execution_count": 34,
   "metadata": {},
   "outputs": [
    {
     "data": {
      "text/html": [
       "<div>\n",
       "<style scoped>\n",
       "    .dataframe tbody tr th:only-of-type {\n",
       "        vertical-align: middle;\n",
       "    }\n",
       "\n",
       "    .dataframe tbody tr th {\n",
       "        vertical-align: top;\n",
       "    }\n",
       "\n",
       "    .dataframe thead th {\n",
       "        text-align: right;\n",
       "    }\n",
       "</style>\n",
       "<table border=\"1\" class=\"dataframe\">\n",
       "  <thead>\n",
       "    <tr style=\"text-align: right;\">\n",
       "      <th></th>\n",
       "      <th>0</th>\n",
       "      <th>1</th>\n",
       "      <th>2</th>\n",
       "    </tr>\n",
       "  </thead>\n",
       "  <tbody>\n",
       "    <tr>\n",
       "      <th>0</th>\n",
       "      <td>1001</td>\n",
       "      <td>a person in a green jacket throws a stick into...</td>\n",
       "      <td>Жасыл күртедегі ер адам суға таяқ лақтырып, қа...</td>\n",
       "    </tr>\n",
       "    <tr>\n",
       "      <th>1</th>\n",
       "      <td>1002</td>\n",
       "      <td>A man is standing at edge of a pond , with two...</td>\n",
       "      <td>Ер адам тоғанның жанында екі итпен тұрып, бұта...</td>\n",
       "    </tr>\n",
       "    <tr>\n",
       "      <th>2</th>\n",
       "      <td>1003</td>\n",
       "      <td>A man is throwing a big stick into the water s...</td>\n",
       "      <td>Ер адам суға үлкен таяқ лақтырды, сондықтан он...</td>\n",
       "    </tr>\n",
       "    <tr>\n",
       "      <th>3</th>\n",
       "      <td>1004</td>\n",
       "      <td>A man is throwing a log into a waterway while ...</td>\n",
       "      <td>Ер адам су жолына ағаш кесегін лақтырып жіберд...</td>\n",
       "    </tr>\n",
       "    <tr>\n",
       "      <th>4</th>\n",
       "      <td>1005</td>\n",
       "      <td>Someone is at the water 's edge with two dogs .</td>\n",
       "      <td>Біреу судың жанында екі ит алып жүрді.</td>\n",
       "    </tr>\n",
       "    <tr>\n",
       "      <th>...</th>\n",
       "      <td>...</td>\n",
       "      <td>...</td>\n",
       "      <td>...</td>\n",
       "    </tr>\n",
       "    <tr>\n",
       "      <th>495</th>\n",
       "      <td>1496</td>\n",
       "      <td>A group of young people take shots in a Mexica...</td>\n",
       "      <td>Мексикада бір топ жастар суретке түсіп жатыр.</td>\n",
       "    </tr>\n",
       "    <tr>\n",
       "      <th>496</th>\n",
       "      <td>1497</td>\n",
       "      <td>A group of people at a restaurant about to tak...</td>\n",
       "      <td>Бір топ адам мейрамханада суретке түсуге дайын...</td>\n",
       "    </tr>\n",
       "    <tr>\n",
       "      <th>497</th>\n",
       "      <td>1498</td>\n",
       "      <td>Young people in sombreros enjoy shots and drin...</td>\n",
       "      <td>Кең шапан киген жастар ішкенді және ішкенді ұн...</td>\n",
       "    </tr>\n",
       "    <tr>\n",
       "      <th>498</th>\n",
       "      <td>1499</td>\n",
       "      <td>A group of people taking shots at a restaurant .</td>\n",
       "      <td>Мейрамханада бір топ адам суретке түсті.</td>\n",
       "    </tr>\n",
       "    <tr>\n",
       "      <th>499</th>\n",
       "      <td>1500</td>\n",
       "      <td>People wearing sombreros drink shots happily .</td>\n",
       "      <td>Кең шапан киген адам бақытты ішеді.</td>\n",
       "    </tr>\n",
       "  </tbody>\n",
       "</table>\n",
       "<p>500 rows × 3 columns</p>\n",
       "</div>"
      ],
      "text/plain": [
       "        0                                                  1  \\\n",
       "0    1001  a person in a green jacket throws a stick into...   \n",
       "1    1002  A man is standing at edge of a pond , with two...   \n",
       "2    1003  A man is throwing a big stick into the water s...   \n",
       "3    1004  A man is throwing a log into a waterway while ...   \n",
       "4    1005    Someone is at the water 's edge with two dogs .   \n",
       "..    ...                                                ...   \n",
       "495  1496  A group of young people take shots in a Mexica...   \n",
       "496  1497  A group of people at a restaurant about to tak...   \n",
       "497  1498  Young people in sombreros enjoy shots and drin...   \n",
       "498  1499   A group of people taking shots at a restaurant .   \n",
       "499  1500     People wearing sombreros drink shots happily .   \n",
       "\n",
       "                                                     2  \n",
       "0    Жасыл күртедегі ер адам суға таяқ лақтырып, қа...  \n",
       "1    Ер адам тоғанның жанында екі итпен тұрып, бұта...  \n",
       "2    Ер адам суға үлкен таяқ лақтырды, сондықтан он...  \n",
       "3    Ер адам су жолына ағаш кесегін лақтырып жіберд...  \n",
       "4               Біреу судың жанында екі ит алып жүрді.  \n",
       "..                                                 ...  \n",
       "495      Мексикада бір топ жастар суретке түсіп жатыр.  \n",
       "496  Бір топ адам мейрамханада суретке түсуге дайын...  \n",
       "497  Кең шапан киген жастар ішкенді және ішкенді ұн...  \n",
       "498           Мейрамханада бір топ адам суретке түсті.  \n",
       "499                Кең шапан киген адам бақытты ішеді.  \n",
       "\n",
       "[500 rows x 3 columns]"
      ]
     },
     "execution_count": 34,
     "metadata": {},
     "output_type": "execute_result"
    }
   ],
   "source": [
    "data_path = '/home/yanghe/Downloads/1001-1500.xlsx'\n",
    "data_df = pd.read_excel(data_path, header=None)\n",
    "data_df"
   ]
  },
  {
   "cell_type": "code",
   "execution_count": 31,
   "metadata": {},
   "outputs": [
    {
     "data": {
      "text/plain": [
       "0     A woman with a black shirt and tan apron is st...\n",
       "1     A female barista dressed in black is making co...\n",
       "2     A girl in a black shirt is smiling as she work...\n",
       "3     A happy woman is preparing a refreshment at a ...\n",
       "4               A young woman is working in a kitchen .\n",
       "                            ...                        \n",
       "95       Two brown dogs run across a large snowy yard .\n",
       "96         Two brown dogs are running through the snow.\n",
       "97             two brown dogs running through the snow.\n",
       "98                 Two dogs race across a snowy field .\n",
       "99                 Two dogs run through a snowy field .\n",
       "Name: 1, Length: 100, dtype: object"
      ]
     },
     "execution_count": 31,
     "metadata": {},
     "output_type": "execute_result"
    }
   ],
   "source": [
    "en_data = data_df.iloc[:100,1]\n",
    "en_data"
   ]
  },
  {
   "cell_type": "code",
   "execution_count": 32,
   "metadata": {},
   "outputs": [],
   "source": [
    "en_data.to_csv('/home/yanghe/Downloads/501-600_en.csv', index=False, header=False)"
   ]
  },
  {
   "cell_type": "code",
   "execution_count": 35,
   "metadata": {},
   "outputs": [],
   "source": [
    "data_df[1].to_excel('/home/yanghe/Downloads/1001-1500.xlsx', index=False, header=False)"
   ]
  },
  {
   "cell_type": "code",
   "execution_count": 11,
   "metadata": {},
   "outputs": [
    {
     "name": "stdout",
     "output_type": "stream",
     "text": [
      "A woman with a black shirt and tan apron is standing behind a counter in a restaurant .\n",
      "A female barista dressed in black is making coffee behind a counter .\n",
      "A girl in a black shirt is smiling as she works behind a bar .\n",
      "A happy woman is preparing a refreshment at a coffee shop .\n"
     ]
    }
   ],
   "source": [
    "for index, row in data_df.iterrows():\n",
    "    print(str(row[1]))\n",
    "    if index == 3:\n",
    "        break"
   ]
  },
  {
   "cell_type": "code",
   "execution_count": 5,
   "metadata": {},
   "outputs": [
    {
     "data": {
      "text/plain": [
       "'一个穿着黑色衬衫和棕褐色围裙的女人站在餐厅的柜台后面。'"
      ]
     },
     "execution_count": 5,
     "metadata": {},
     "output_type": "execute_result"
    }
   ],
   "source": [
    "# 设置Google翻译服务地址\n",
    "# translator = Translator(service_urls=[\n",
    "#       'translate.google.cn'\n",
    "# ])\n",
    "translator = Translator()\n",
    "translation = translator.translate('A woman with a black shirt and tan apron is standing behind a counter in a restaurant .', dest='zh-CN').text\n",
    "translation"
   ]
  },
  {
   "cell_type": "code",
   "execution_count": 22,
   "metadata": {},
   "outputs": [],
   "source": [
    "zh_text = []"
   ]
  },
  {
   "cell_type": "code",
   "execution_count": 36,
   "metadata": {},
   "outputs": [],
   "source": [
    "# for index, row in data_df.iterrows():\n",
    "\n",
    "#     if index < 0:\n",
    "#         continue\n",
    "\n",
    "#     time.sleep(10)\n",
    "#     translation = translator.translate(row[1], dest='zh-CN').text\n",
    "    \n",
    "#     if index == 10:\n",
    "#         break\n",
    "\n",
    "#     zh_text.append(translation)\n",
    "    \n",
    "# print(len(zh_text))"
   ]
  },
  {
   "cell_type": "code",
   "execution_count": null,
   "metadata": {},
   "outputs": [],
   "source": [
    "17805/1000*600=10683"
   ]
  }
 ],
 "metadata": {
  "kernelspec": {
   "display_name": "clir",
   "language": "python",
   "name": "python3"
  },
  "language_info": {
   "codemirror_mode": {
    "name": "ipython",
    "version": 3
   },
   "file_extension": ".py",
   "mimetype": "text/x-python",
   "name": "python",
   "nbconvert_exporter": "python",
   "pygments_lexer": "ipython3",
   "version": "3.8.18"
  }
 },
 "nbformat": 4,
 "nbformat_minor": 2
}
